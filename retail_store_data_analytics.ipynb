{
 "cells": [
  {
   "cell_type": "markdown",
   "metadata": {},
   "source": [
    "# **0. IMPORTING PACKAGES**."
   ]
  },
  {
   "cell_type": "code",
   "execution_count": 1,
   "metadata": {},
   "outputs": [
    {
     "name": "stdout",
     "output_type": "stream",
     "text": [
      "[info] all necessary packages imported successfully...\n"
     ]
    }
   ],
   "source": [
    "#LOADING NECESSARY PACKAGES\n",
    "import numpy as np\n",
    "import pandas as pd\n",
    "import seaborn as sns\n",
    "import matplotlib.pyplot as plt\n",
    "\n",
    "print('[info] all necessary packages imported successfully...')"
   ]
  },
  {
   "cell_type": "markdown",
   "metadata": {},
   "source": [
    "# **1. LOADING DATA**"
   ]
  },
  {
   "cell_type": "code",
   "execution_count": 2,
   "metadata": {},
   "outputs": [
    {
     "data": {
      "text/html": [
       "<div>\n",
       "<style scoped>\n",
       "    .dataframe tbody tr th:only-of-type {\n",
       "        vertical-align: middle;\n",
       "    }\n",
       "\n",
       "    .dataframe tbody tr th {\n",
       "        vertical-align: top;\n",
       "    }\n",
       "\n",
       "    .dataframe thead th {\n",
       "        text-align: right;\n",
       "    }\n",
       "</style>\n",
       "<table border=\"1\" class=\"dataframe\">\n",
       "  <thead>\n",
       "    <tr style=\"text-align: right;\">\n",
       "      <th></th>\n",
       "      <th>SRI VIGNESHWARA RICE TRADERS</th>\n",
       "      <th>Unnamed: 1</th>\n",
       "      <th>Unnamed: 2</th>\n",
       "    </tr>\n",
       "  </thead>\n",
       "  <tbody>\n",
       "    <tr>\n",
       "      <th>0</th>\n",
       "      <td>NaN</td>\n",
       "      <td>NaN</td>\n",
       "      <td>NaN</td>\n",
       "    </tr>\n",
       "    <tr>\n",
       "      <th>1</th>\n",
       "      <td>Sales Summary  01/01/2023-31/01/2023</td>\n",
       "      <td>NaN</td>\n",
       "      <td>NaN</td>\n",
       "    </tr>\n",
       "    <tr>\n",
       "      <th>2</th>\n",
       "      <td>NaN</td>\n",
       "      <td>NaN</td>\n",
       "      <td>NaN</td>\n",
       "    </tr>\n",
       "    <tr>\n",
       "      <th>3</th>\n",
       "      <td>Product Name</td>\n",
       "      <td>Qty.</td>\n",
       "      <td>Amount</td>\n",
       "    </tr>\n",
       "    <tr>\n",
       "      <th>4</th>\n",
       "      <td>NaN</td>\n",
       "      <td>NaN</td>\n",
       "      <td>NaN</td>\n",
       "    </tr>\n",
       "    <tr>\n",
       "      <th>5</th>\n",
       "      <td>BULLET SONA</td>\n",
       "      <td>1858</td>\n",
       "      <td>77384</td>\n",
       "    </tr>\n",
       "    <tr>\n",
       "      <th>6</th>\n",
       "      <td>BEST SONA</td>\n",
       "      <td>1041.5</td>\n",
       "      <td>52920</td>\n",
       "    </tr>\n",
       "    <tr>\n",
       "      <th>7</th>\n",
       "      <td>SUNPURE 1LT</td>\n",
       "      <td>169</td>\n",
       "      <td>25319</td>\n",
       "    </tr>\n",
       "    <tr>\n",
       "      <th>8</th>\n",
       "      <td>SUPER SONA</td>\n",
       "      <td>449</td>\n",
       "      <td>22862</td>\n",
       "    </tr>\n",
       "    <tr>\n",
       "      <th>9</th>\n",
       "      <td>FINE SONA</td>\n",
       "      <td>371.5</td>\n",
       "      <td>20191</td>\n",
       "    </tr>\n",
       "  </tbody>\n",
       "</table>\n",
       "</div>"
      ],
      "text/plain": [
       "           SRI VIGNESHWARA RICE TRADERS Unnamed: 1 Unnamed: 2\n",
       "0                                   NaN        NaN        NaN\n",
       "1  Sales Summary  01/01/2023-31/01/2023        NaN        NaN\n",
       "2                                   NaN        NaN        NaN\n",
       "3                          Product Name       Qty.     Amount\n",
       "4                                   NaN        NaN        NaN\n",
       "5                           BULLET SONA       1858      77384\n",
       "6                             BEST SONA     1041.5      52920\n",
       "7                           SUNPURE 1LT        169      25319\n",
       "8                            SUPER SONA        449      22862\n",
       "9                             FINE SONA      371.5      20191"
      ]
     },
     "execution_count": 2,
     "metadata": {},
     "output_type": "execute_result"
    }
   ],
   "source": [
    "#LOADING JAN-23 DATA TO TAKE A GLIMPSE\n",
    "jan_data = pd.read_csv(r'data/1_JAN23.CSV')\n",
    "jan_data.head(10)"
   ]
  },
  {
   "cell_type": "markdown",
   "metadata": {},
   "source": [
    "since this is a retial store monthly summary in invoice style, there are few rows that contain NaN values. \n",
    "These NaN values primarily come from retail store name, address, etc. \n",
    "\n",
    "We will have to clean this before performing any data analyses.\n",
    "\n",
    "In this case, rows 0,1,2 and 4 are not useful.\n",
    "\n",
    "The headers are \"SRI VIGNESHWARA RICE TRADERS\"\t\"Unnamed: 1\"\t\"Unnamed: 2\"\n",
    "\n",
    "We will have to rename the headers to \"product_name\", \"quantity\", and \"amount\""
   ]
  },
  {
   "cell_type": "markdown",
   "metadata": {},
   "source": [
    "# **2. DATA CLEANING**"
   ]
  },
  {
   "cell_type": "code",
   "execution_count": 3,
   "metadata": {},
   "outputs": [
    {
     "data": {
      "text/html": [
       "<div>\n",
       "<style scoped>\n",
       "    .dataframe tbody tr th:only-of-type {\n",
       "        vertical-align: middle;\n",
       "    }\n",
       "\n",
       "    .dataframe tbody tr th {\n",
       "        vertical-align: top;\n",
       "    }\n",
       "\n",
       "    .dataframe thead th {\n",
       "        text-align: right;\n",
       "    }\n",
       "</style>\n",
       "<table border=\"1\" class=\"dataframe\">\n",
       "  <thead>\n",
       "    <tr style=\"text-align: right;\">\n",
       "      <th></th>\n",
       "      <th>product_name</th>\n",
       "      <th>quantity</th>\n",
       "      <th>amount</th>\n",
       "    </tr>\n",
       "  </thead>\n",
       "  <tbody>\n",
       "    <tr>\n",
       "      <th>0</th>\n",
       "      <td>BULLET SONA</td>\n",
       "      <td>1858</td>\n",
       "      <td>77384</td>\n",
       "    </tr>\n",
       "    <tr>\n",
       "      <th>1</th>\n",
       "      <td>BEST SONA</td>\n",
       "      <td>1041.5</td>\n",
       "      <td>52920</td>\n",
       "    </tr>\n",
       "    <tr>\n",
       "      <th>2</th>\n",
       "      <td>SUNPURE 1LT</td>\n",
       "      <td>169</td>\n",
       "      <td>25319</td>\n",
       "    </tr>\n",
       "    <tr>\n",
       "      <th>3</th>\n",
       "      <td>SUPER SONA</td>\n",
       "      <td>449</td>\n",
       "      <td>22862</td>\n",
       "    </tr>\n",
       "    <tr>\n",
       "      <th>4</th>\n",
       "      <td>FINE SONA</td>\n",
       "      <td>371.5</td>\n",
       "      <td>20191</td>\n",
       "    </tr>\n",
       "  </tbody>\n",
       "</table>\n",
       "</div>"
      ],
      "text/plain": [
       "  product_name quantity amount\n",
       "0  BULLET SONA     1858  77384\n",
       "1    BEST SONA   1041.5  52920\n",
       "2  SUNPURE 1LT      169  25319\n",
       "3   SUPER SONA      449  22862\n",
       "4    FINE SONA    371.5  20191"
      ]
     },
     "execution_count": 3,
     "metadata": {},
     "output_type": "execute_result"
    }
   ],
   "source": [
    "jan_data = jan_data.drop([0, 1, 2, 3, 4])# Dropping rows 0, 1, 2, and 4\n",
    "jan_data = jan_data.reset_index(drop=True)# Resetting indexes\n",
    "jan_data.columns = ['product_name','quantity','amount']\n",
    "\n",
    "jan_data.head()# Displaying the DataFrame after dropping rows"
   ]
  },
  {
   "cell_type": "code",
   "execution_count": 4,
   "metadata": {},
   "outputs": [
    {
     "name": "stdout",
     "output_type": "stream",
     "text": [
      "NaN values before handling :  Index([], dtype='object')\n"
     ]
    }
   ],
   "source": [
    "print(\"NaN values before handling : \",jan_data.columns[jan_data.isna().any()])\n"
   ]
  },
  {
   "cell_type": "markdown",
   "metadata": {},
   "source": [
    "after removing NaN values from the top we observe that there are NaN values in the bottom as well.\n",
    "\n",
    "We will have to handle them before proceeding."
   ]
  },
  {
   "cell_type": "code",
   "execution_count": 5,
   "metadata": {},
   "outputs": [
    {
     "data": {
      "text/html": [
       "<div>\n",
       "<style scoped>\n",
       "    .dataframe tbody tr th:only-of-type {\n",
       "        vertical-align: middle;\n",
       "    }\n",
       "\n",
       "    .dataframe tbody tr th {\n",
       "        vertical-align: top;\n",
       "    }\n",
       "\n",
       "    .dataframe thead th {\n",
       "        text-align: right;\n",
       "    }\n",
       "</style>\n",
       "<table border=\"1\" class=\"dataframe\">\n",
       "  <thead>\n",
       "    <tr style=\"text-align: right;\">\n",
       "      <th></th>\n",
       "      <th>product_name</th>\n",
       "      <th>quantity</th>\n",
       "      <th>amount</th>\n",
       "    </tr>\n",
       "  </thead>\n",
       "  <tbody>\n",
       "    <tr>\n",
       "      <th>418</th>\n",
       "      <td>BRU 10RS</td>\n",
       "      <td>1</td>\n",
       "      <td>10</td>\n",
       "    </tr>\n",
       "    <tr>\n",
       "      <th>419</th>\n",
       "      <td>AA APPALA</td>\n",
       "      <td>1</td>\n",
       "      <td>10</td>\n",
       "    </tr>\n",
       "    <tr>\n",
       "      <th>420</th>\n",
       "      <td>ANNAS FLOR 10RS</td>\n",
       "      <td>1</td>\n",
       "      <td>10</td>\n",
       "    </tr>\n",
       "    <tr>\n",
       "      <th>421</th>\n",
       "      <td>GRB 10RS</td>\n",
       "      <td>1</td>\n",
       "      <td>10</td>\n",
       "    </tr>\n",
       "    <tr>\n",
       "      <th>422</th>\n",
       "      <td>SubTotal</td>\n",
       "      <td>12830.095</td>\n",
       "      <td>714940.8</td>\n",
       "    </tr>\n",
       "  </tbody>\n",
       "</table>\n",
       "</div>"
      ],
      "text/plain": [
       "        product_name   quantity    amount\n",
       "418         BRU 10RS          1        10\n",
       "419        AA APPALA          1        10\n",
       "420  ANNAS FLOR 10RS          1        10\n",
       "421         GRB 10RS          1        10\n",
       "422         SubTotal  12830.095  714940.8"
      ]
     },
     "execution_count": 5,
     "metadata": {},
     "output_type": "execute_result"
    }
   ],
   "source": [
    "jan_data['quantity'] = jan_data['quantity'].astype(str)\n",
    "jan_data = jan_data[~jan_data['quantity'].str.contains('^,-----,-----------$', regex=True)]\n",
    "jan_data = jan_data.reset_index(drop=True)\n",
    "jan_data.tail()\n"
   ]
  },
  {
   "cell_type": "code",
   "execution_count": 6,
   "metadata": {},
   "outputs": [
    {
     "name": "stdout",
     "output_type": "stream",
     "text": [
      "NaN values after handling them :  Index([], dtype='object')\n"
     ]
    }
   ],
   "source": [
    "jan_data = jan_data.dropna()\n",
    "print(\"NaN values after handling them : \",jan_data.columns[jan_data.isna().any()])"
   ]
  },
  {
   "cell_type": "code",
   "execution_count": 7,
   "metadata": {},
   "outputs": [
    {
     "data": {
      "text/html": [
       "<div>\n",
       "<style scoped>\n",
       "    .dataframe tbody tr th:only-of-type {\n",
       "        vertical-align: middle;\n",
       "    }\n",
       "\n",
       "    .dataframe tbody tr th {\n",
       "        vertical-align: top;\n",
       "    }\n",
       "\n",
       "    .dataframe thead th {\n",
       "        text-align: right;\n",
       "    }\n",
       "</style>\n",
       "<table border=\"1\" class=\"dataframe\">\n",
       "  <thead>\n",
       "    <tr style=\"text-align: right;\">\n",
       "      <th></th>\n",
       "      <th>product_name</th>\n",
       "      <th>quantity</th>\n",
       "      <th>amount</th>\n",
       "    </tr>\n",
       "  </thead>\n",
       "  <tbody>\n",
       "    <tr>\n",
       "      <th>418</th>\n",
       "      <td>BRU 10RS</td>\n",
       "      <td>1</td>\n",
       "      <td>10</td>\n",
       "    </tr>\n",
       "    <tr>\n",
       "      <th>419</th>\n",
       "      <td>AA APPALA</td>\n",
       "      <td>1</td>\n",
       "      <td>10</td>\n",
       "    </tr>\n",
       "    <tr>\n",
       "      <th>420</th>\n",
       "      <td>ANNAS FLOR 10RS</td>\n",
       "      <td>1</td>\n",
       "      <td>10</td>\n",
       "    </tr>\n",
       "    <tr>\n",
       "      <th>421</th>\n",
       "      <td>GRB 10RS</td>\n",
       "      <td>1</td>\n",
       "      <td>10</td>\n",
       "    </tr>\n",
       "    <tr>\n",
       "      <th>422</th>\n",
       "      <td>SubTotal</td>\n",
       "      <td>12830.095</td>\n",
       "      <td>714940.8</td>\n",
       "    </tr>\n",
       "  </tbody>\n",
       "</table>\n",
       "</div>"
      ],
      "text/plain": [
       "        product_name   quantity    amount\n",
       "418         BRU 10RS          1        10\n",
       "419        AA APPALA          1        10\n",
       "420  ANNAS FLOR 10RS          1        10\n",
       "421         GRB 10RS          1        10\n",
       "422         SubTotal  12830.095  714940.8"
      ]
     },
     "execution_count": 7,
     "metadata": {},
     "output_type": "execute_result"
    }
   ],
   "source": [
    "jan_data.tail()"
   ]
  },
  {
   "cell_type": "markdown",
   "metadata": {},
   "source": [
    "# **3. EXPLORATORY DATA ANALYSIS**"
   ]
  },
  {
   "cell_type": "code",
   "execution_count": 8,
   "metadata": {},
   "outputs": [
    {
     "name": "stdout",
     "output_type": "stream",
     "text": [
      "<class 'pandas.core.frame.DataFrame'>\n",
      "RangeIndex: 423 entries, 0 to 422\n",
      "Data columns (total 3 columns):\n",
      " #   Column        Non-Null Count  Dtype \n",
      "---  ------        --------------  ----- \n",
      " 0   product_name  423 non-null    object\n",
      " 1   quantity      423 non-null    object\n",
      " 2   amount        423 non-null    object\n",
      "dtypes: object(3)\n",
      "memory usage: 10.0+ KB\n"
     ]
    }
   ],
   "source": [
    "jan_data.info()"
   ]
  },
  {
   "cell_type": "code",
   "execution_count": 15,
   "metadata": {},
   "outputs": [
    {
     "name": "stdout",
     "output_type": "stream",
     "text": [
      "422\n",
      "{'BULLET SONA': 0, 'BEST SONA': 1, 'SUNPURE 1LT': 2, 'SUPER SONA': 3, 'FINE SONA': 4, 'SPL SONA': 5, 'KOLAM OLD': 6, 'RUCHI GOLD': 7, 'BULLET RICE': 8, 'GOLD WINNER 1LR': 9, 'SHIVALINGA DAL': 10, 'SUGAR': 11, 'VRT SONA': 12, 'HMT SPL': 13, 'MOONG DALL': 14, '15 LTR SUNPURE': 15, 'HMT': 16, 'GN SEEDS': 17, 'BROKEN RICE RAW': 18, 'A ONE SONA': 19, '5LIT SUNPURE CAN': 20, 'ATTA SPL': 21, 'KESAR KALI RICE': 22, 'RAJMOUDI RICE': 23, 'WHEAT FINE': 24, 'PONNY SPL': 25, 'URID DALL': 26, 'GINGELLY OIL 1LI': 27, 'OFFER 1700': 28, 'ASH ATTA 10KG.': 29, 'JAGARRY R': 30, 'CHILLI [G]': 31, 'CHILLI [M]': 32, 'RAVA(M)': 33, 'DHANIYA': 34, 'KABUL': 35, 'GRAM DALL': 36, 'FRIED GRAM': 37, 'CHILLI [B]': 38, 'ASH ATTA 5KG': 39, 'URID GOLA': 40, 'CASHEW JH': 41, 'JEERA 100G': 42, 'MAIDA SPL': 43, 'AVALAKKI': 44, '10KG BABA GOLD': 45, 'GREEN MOONG': 46, 'GINGELLY OIL 500': 47, 'VOM 15KG': 48, 'BASMATHI PUALO': 49, 'VOM GN OIL 1LT': 50, 'SURF XL TOP 6KG': 51, 'FREEDOM SF OIL': 52, 'RED BOILED': 53, 'PEPPER 100GM': 54, '5LR GOLD WINNER': 55, 'GANESH DALL': 56, 'RAVA B': 57, 'NANDINI 1LR': 58, 'RAW SONA': 59, 'IND CLASIC': 60, 'COPRA': 61, 'RAGI': 62, 'GN SEEDS R': 63, 'NANDINI 500ML': 64, '5LR FORTUNE': 65, 'POPPY SEEDS 100G': 66, 'JAGARY CUT': 67, 'G FLOUR': 68, 'GRB 500ML': 69, 'GRB 200ML B': 70, 'AASHIRVAD SALT': 71, 'JEENI 1KG': 72, 'TAMRAND': 73, 'ASH ATTA 1KG': 74, 'DHEEPAM 1LR': 75, 'B GRAM': 76, 'MUSTARD 100G': 77, 'JOLA': 78, 'JAGGARY (H)': 79, 'ANN.ROCKSALT 1KG': 80, 'ROYAL SONA': 81, 'IDLY RICE': 82, 'MASUR DALL': 83, 'NY THILL 250G': 84, 'LONG BODY': 85, 'BADAM SEEDS': 86, 'LOBO': 87, 'AA CP 500GM': 88, 'VIM 5RS': 89, 'ZEERA RICE FINE': 90, 'APLA 70RS': 91, 'SURF EASY 1KG': 92, 'URID BLK': 93, 'HORSE GRAM': 94, 'DRY GRAPES': 95, 'POPPEY SEEDS 50G': 96, 'JAGARY BUCKET': 97, 'B L GFLOOR 500': 98, 'MTR JAMUN OFFRR': 99, 'LIFE BOY SOAP': 100, 'PEARS BLUE': 101, 'VIM 10 RS': 102, 'AA 10RS': 103, 'L G POWDER 50GM': 104, 'RAVA(C)': 105, 'MTR PULIO 12RS': 106, 'FORTUNE MUS OIL': 107, 'DOSA RICE (FINE)': 108, 'WHEEL POWDER 1KG': 109, 'SWA RAVA IDLY 1=': 110, 'GRB 100ML B': 111, 'ANNAPURNA ATTA 1': 112, 'MY SANDLE B': 113, 'GRB 500ML B': 114, 'COL PASTE 100GM': 115, 'RIN SOAP 10RS': 116, 'JAGARY S': 117, 'MAGGI 8PACK': 118, 'MTR BADAM POW 20': 119, 'TIDE 1 KG': 120, 'SURF XL TOP 1': 121, 'GINGELY OIL 200M': 122, 'BOOST 500G': 123, 'METHI 100G': 124, 'HARPIC 500ML': 125, 'CONTNENTEL 200GM': 126, 'PURI 500GM': 127, 'RIN BIG BAR': 128, 'VVD OIL 500ML': 129, 'B L RAGI FLOOR 1': 130, 'ASH ATTA 2KG': 131, 'TAJ 250G': 132, 'RED RAW': 133, 'B L CHIROTI 500G': 134, 'JAGARRY POWDER': 135, 'ANNAPURNA ATTA 5': 136, 'PEPPER LOOSE': 137, 'LUX 100GM': 138, 'AMRUTHAM OIL 1LR': 139, 'AA CHIKEN 100GM': 140, 'SANTOOR 38RS': 141, 'TAJ 100G': 142, 'DHEEPAM 1LTR': 143, 'H&S SHAMPO 2RS': 144, 'MY SANDEL S': 145, 'GREEN PEAS': 146, 'TATA SALT': 147, 'RED LABLE 1KG NC': 148, 'MIX SPL': 149, 'PALAV MIX 10RS': 150, 'PICKLE 50RS': 151, 'SURF 10RS': 152, 'CLI SHAMPO 1RS': 153, 'NAVANE': 154, 'P CHUTE 600ML': 155, 'JEERA LOOSE': 156, 'CYCLE 50RS': 157, 'MOTTU': 158, 'SAIGO': 159, 'VIJAY IDLY RAVA': 160, 'SURF XL 35RS': 161, 'P CHUTE 500ML': 162, 'PEARS SET 190 RS': 163, 'RED LABEL 100G': 164, 'JEENI SPL': 165, 'FORTUNE 10KG': 166, 'GRB TP 100GM': 167, 'HORLICKS 500G': 168, 'COMFART 800ML': 169, 'TIDE 500GM': 170, 'ARKA': 171, 'NY THILL 100G': 172, 'CASHEW FULL': 173, 'YALAKI POWDER': 174, 'B L AVALAKI': 175, 'COL PASTE 50GM': 176, 'MTR CP 500G': 177, 'PEPPER 50GM': 178, '3ROSES 500G': 179, 'RED LABELE NC 10': 180, 'MEDMIX B': 181, 'POPPY SEEDS 250': 182, 'LIZOL 1LR': 183, 'VIJAY RICE FLOOR': 184, 'SURF XL 20RS': 185, 'DABUR PASTE OFFE': 186, 'AMRUTHAM OIL 500': 187, 'KRISHNA 500ML': 188, 'COL PASTE OFFER': 189, 'METHI LOOSE': 190, 'RED LABEL NC 250': 191, 'SOUMF 50GM': 192, 'BROWN RICE': 193, 'DABUR PASTE 100G': 194, 'BALLAR DAL': 195, 'CAMPAR JAR': 196, 'P CHUTE 300ML': 197, 'ASH SELECT 5KG': 198, 'RED LABEL NC 500': 199, 'BLACK STONE 125R': 200, 'GRB CP 100GM': 201, 'BALLAR': 202, 'SURF EASY 500G': 203, 'SABEENA 500GM': 204, 'COTHAS 100G': 205, 'W THILL 100G': 206, 'TIDE 10RS': 207, 'COTHAS 500G': 208, 'B L MAIDA 500GM': 209, 'PISTA 200GM': 210, 'SWA GARAM 200': 211, 'PATTA': 212, 'VIM TUB 60RS': 213, 'EV CP 500GM': 214, 'P CHUTE 100ML': 215, 'RED LABEL 500G': 216, 'ANIL SEMIYA 200M': 217, 'MTR PULIOGARE 10': 218, 'MTR T POW 100G': 219, 'SANTOOR 10RS': 220, 'SWA DP 500GM': 221, 'SANDIGE 1KG': 222, 'MUSTERD LOOSE': 223, 'VIM 33RS': 224, 'MTR RAVAIDLY 500': 225, 'SH SP 100GM': 226, 'MEERA SHAMPO 2RS': 227, 'AVALAKKI (P)': 228, 'ASH CP 100': 229, 'P CHUTE 200ML': 230, 'BOOST 5RS': 231, 'ARIEL 500GM': 232, 'JEERA 50GM': 233, 'DOMEX': 234, 'SANTOOR 222RS': 235, 'BOOST 200G': 236, 'G LABLE 100G': 237, 'MEAL MAKER': 238, 'VASU BIG': 239, 'JEERA 250G': 240, 'FAIR N LOVELY 25': 241, 'RED LABLE 10RS': 242, '3ROSES 250G': 243, 'IG PULIOGARE': 244, 'MTR BISIBELE 100': 245, 'GRB JAMUN 1=1': 246, 'B TILL 100': 247, 'W TILL 250': 248, 'ACT 10RS': 249, 'BLACK STONE 50RS': 250, 'MAGGI 12RS': 251, 'GRB 100ML': 252, 'AA TP 100GM': 253, 'YALAKI': 254, 'MTR G MASALA 50': 255, 'HARPIC RED': 256, 'COMFART 4RS': 257, 'SOUMF SWEET': 258, 'LIFEBOY 1=1': 259, 'VIM LIQ 750ML': 260, 'MUSTARD 250G': 261, 'VIM TUB 30RS': 262, 'FAIR LOVELY 80GM': 263, 'KIS JAM 500': 264, 'MTR SEMIYA 500G': 265, 'AA CHIKEN 500GM': 266, 'MTR VANGIBATH 10': 267, 'COL VED OFFER 15': 268, 'CLOSUP OFFER': 269, 'HORLICKS 5RS': 270, 'AA CHIKEN 10RS': 271, 'HING 10RS': 272, 'LEVISTA 2RS': 273, 'COMFART 180ML': 274, 'SURF XL 15RS': 275, 'MIX 250GM': 276, 'COL MAX OFFER': 277, 'DETTOL SOAP B': 278, 'ANIL SEMIYA 500G': 279, 'GEMINI OIL 1LT': 280, 'TATA GOLD 100': 281, 'SUGAR CANDY': 282, 'TATA PINK SALT': 283, 'GRB DP 100GM': 284, 'RIN POWDER 500GM': 285, 'SUNRISE 2RS': 286, 'SAMRAT SEKAI POW': 287, 'ROCKSALT': 288, 'RED LABEL 250G': 289, 'TATA GOLD 250G': 290, 'BARLY 100G': 291, 'YALAKI 10RS': 292, 'MTR SEMIYA 900G': 293, 'LAVANG': 294, 'MTR SEMIYA 200GM': 295, 'MTR D POW 100G': 296, 'DOSA RICE FINE': 297, 'MTR PULIOGARE 20': 298, 'BRU 2RS': 299, 'M MOGGU': 300, 'DOVE SHAMPO 2RS': 301, 'COL SALT 100': 302, 'CYCLE DOOPA 72': 303, 'VIM SET 130': 304, 'HORLICKS 200G (B': 305, 'MARRE GOLD 1KG': 306, 'COTHAS 200G': 307, 'APLA MASALA 70RS': 308, 'AA DP 100GM': 309, 'SUNDROP CHOCAS': 310, 'PICKLE 60RS': 311, 'DABUR HONEY 250G': 312, 'AA GARAM 50GM': 313, 'MTR TOMOTO 15RS': 314, 'COL BRUSH 20RS': 315, 'SSP 1G': 316, 'MOMS MAGIC 1KG': 317, 'ASH SEMIYA R': 318, 'DRY GRAPES 10RS': 319, 'SOYA CHUNKS 200G': 320, 'WHEEL POWDER 500': 321, 'MTR BISIBELE 10R': 322, 'TIDE SET': 323, 'DHEPAM OIL 500ML': 324, 'LIZOL 500ML': 325, 'DOMEX TOILET': 326, 'AA TP 500GM': 327, 'GRB TP 500G': 328, 'SURF LIQ 10RS': 329, 'LAVANGA 10RS': 330, 'WHEEL SOAP 10RS': 331, 'GRB 50ML': 332, 'MEDIMEX SET': 333, 'CORN FLOUR': 334, 'CLOSE UP 100': 335, 'K.DEVAN 100GM': 336, 'MEDIMIX S': 337, 'MAGGI 6PACK': 338, 'T.STICKS': 339, 'MANGAL DEEP DOOP': 340, 'AA CP 100GM': 341, '3ROSES 100G': 342, 'SANDIGE 500GM': 343, 'KASURI METHY 25G': 344, 'CASEW JH 10RS': 345, 'TOMOTO SAUCE': 346, 'PICKLE 20RS': 347, 'K.DEVAN 250GM': 348, 'G LABLE 200G': 349, 'SUNPURE 500ML': 350, 'TATA GOLD 100G': 351, 'L G PKT': 352, 'EV CHAT 50GM': 353, 'LIFE BOY 10RS': 354, 'SOUMF L': 355, 'MTR SP 100G': 356, 'MTR RASAM 100G': 357, 'DABUR HONEY 100G': 358, 'NYLON SAIGO 500G': 359, 'AA PEPPER PO 50G': 360, 'TASTING POWDAR': 361, 'DALDA 200ML': 362, 'OMA 100GM': 363, 'KIS JAM 20RS': 364, 'SOUMP 50G': 365, 'U YELLU': 366, 'SUNDROP BUTTER 2': 367, 'MTR RASAM 10RS': 368, 'AA JEERA PO 50GM': 369, 'MASUR BLACK': 370, 'SH CHIKEN': 371, 'PATANJALI 100GM': 372, 'MALGUDI 50RS': 373, 'MANGALDEEP 50RS': 374, 'MTR CP 100GM': 375, 'ASH SEMIYA 500': 376, 'GINGER GARLIC 5R': 377, 'PALAV LEAF LOOSE': 378, 'MTR 10RS': 379, 'SCBRITE 10RS': 380, 'SODA': 381, 'DABUR HONEY 50G': 382, 'CHETA MBOX': 383, 'STAR KESAR': 384, 'VIM LIQ 20RS': 385, 'DET REF': 386, 'LIFE BOY REF 40R': 387, 'YIPPEE 12RS': 388, 'BLECHING POWDER': 389, 'STEEL SCRUB': 390, 'AA BIRIYANI 50GM': 391, 'MTR LIME 15RS': 392, 'SUN SILK 1RS': 393, 'RIN 5 RS': 394, 'TEJU 10RS': 395, 'JEERA 10RS': 396, 'CAMPAR 20RS': 397, 'AA SP 10RS': 398, 'HOMELITE': 399, 'APLA 30RS': 400, 'VIM 25RS': 401, 'RAGI FLOUR': 402, 'ARASAN SOAP 250G': 403, 'SH SP 50GM': 404, 'SURF EL 10RS': 405, 'SOYA SAUCE': 406, 'CYCLE 10RS': 407, 'SUNRISE 10RS': 408, 'FAIR N LOVELY 20': 409, 'MTR PALAV 10RS': 410, 'SAIGO 100GM': 411, 'KUNKMA 10RS': 412, 'B THILL 50G': 413, 'ACT 15RS': 414, 'PATTA 10RS': 415, 'BADAM SEEDS 10RS': 416, 'BRU 10RS': 417, 'AA APPALA': 418, 'ANNAS FLOR 10RS': 419, 'GRB 10RS': 420, 'SubTotal': 421}\n"
     ]
    }
   ],
   "source": [
    "product_unique = jan_data['product_name'].unique().tolist()\n",
    "print(len(product_unique))\n",
    "\n",
    "product_unique_dict = {j:i for i,j in enumerate(product_unique)}\n",
    "print(product_unique_dict)"
   ]
  },
  {
   "cell_type": "code",
   "execution_count": 21,
   "metadata": {},
   "outputs": [
    {
     "name": "stdout",
     "output_type": "stream",
     "text": [
      "  product_name quantity amount\n",
      "1    BEST SONA   1041.5  52920\n"
     ]
    }
   ],
   "source": [
    "product_name = str(input(\"Enter a product name to fetch data : \"))\n",
    "\n",
    "if product_name.upper() in product_unique:\n",
    "    filter = jan_data['product_name'] == product_name.upper()\n",
    "    print(jan_data[filter].head())\n",
    "else:\n",
    "    print('error! product not found in database...')"
   ]
  },
  {
   "cell_type": "markdown",
   "metadata": {},
   "source": []
  }
 ],
 "metadata": {
  "kernelspec": {
   "display_name": "main",
   "language": "python",
   "name": "python3"
  },
  "language_info": {
   "codemirror_mode": {
    "name": "ipython",
    "version": 3
   },
   "file_extension": ".py",
   "mimetype": "text/x-python",
   "name": "python",
   "nbconvert_exporter": "python",
   "pygments_lexer": "ipython3",
   "version": "3.8.19"
  }
 },
 "nbformat": 4,
 "nbformat_minor": 2
}
